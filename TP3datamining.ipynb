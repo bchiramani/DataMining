{
  "nbformat": 4,
  "nbformat_minor": 0,
  "metadata": {
    "colab": {
      "provenance": [],
      "toc_visible": true,
      "include_colab_link": true
    },
    "kernelspec": {
      "name": "python3",
      "display_name": "Python 3"
    },
    "language_info": {
      "name": "python"
    }
  },
  "cells": [
    {
      "cell_type": "markdown",
      "metadata": {
        "id": "view-in-github",
        "colab_type": "text"
      },
      "source": [
        "<a href=\"https://colab.research.google.com/github/bchiramani/DataMining/blob/main/TP3datamining.ipynb\" target=\"_parent\"><img src=\"https://colab.research.google.com/assets/colab-badge.svg\" alt=\"Open In Colab\"/></a>"
      ]
    },
    {
      "cell_type": "markdown",
      "source": [
        "# TP4 \n",
        "Dans ce TP, on travaille avec la bibliotheque Scikit-Learn.\n",
        "\n",
        "Scikit-Learn : est une bibliotheque de machine learning. elle est utilisée pour:\n",
        "* la classification supervisée\n",
        "* la regression\n",
        "* la classification non supervisée\n",
        "* la reduction de dimension(reduction du nombre de variable considéré)\n",
        "* la selection de modele(comparaison,choix et validation des parametres et des modeles)\n",
        "* le préprossessing \n",
        "...\n",
        "\n",
        "Dans ce TP, on s'interesse de l'utilisation de Sikit-Learn pour la classification supervisée.\n",
        "\n",
        "\n"
      ],
      "metadata": {
        "id": "ktiwrN_TLG91"
      }
    },
    {
      "cell_type": "markdown",
      "source": [
        "# Naive bayes"
      ],
      "metadata": {
        "id": "Q_HtscLfOEBw"
      }
    },
    {
      "cell_type": "markdown",
      "source": [
        "## Imports"
      ],
      "metadata": {
        "id": "YQWVXU8KLKch"
      }
    },
    {
      "cell_type": "code",
      "execution_count": null,
      "metadata": {
        "id": "8mv2XonsN1Ar"
      },
      "outputs": [],
      "source": [
        "from sklearn import datasets\n",
        "from collections import Counter"
      ]
    },
    {
      "cell_type": "markdown",
      "source": [
        "## Chargement de la Dataset\n",
        "Iris est un ensemble (jeu) de données qui contient 150 exemples de critères observés sur des espèces différentes d'iris de Gaspésie (Setosa, Versicolor, Verginica). \n",
        "Chaque exemple est composé de quatre attributs: \n",
        "* longueur des sépales en cm\n",
        "* largeur des sépales en cm\n",
        "* longueur des pétales en cm\n",
        "* largeur des pétales en cm\n",
        "\n",
        "Iris est disponible dans scikit-learn dans le package datasets.Elle est constituée de deux dictionanaires : .data et .target"
      ],
      "metadata": {
        "id": "ewKbFIKfOeT9"
      }
    },
    {
      "cell_type": "code",
      "source": [
        "irisData = datasets.load_iris()\n",
        "print (\"iri.data : \" , irisData.data)\n",
        "print (\"iris.target : \" , irisData.target)"
      ],
      "metadata": {
        "colab": {
          "base_uri": "https://localhost:8080/"
        },
        "id": "0y54aPfsOZPv",
        "outputId": "bb837380-83cf-4c34-9aab-a95b73647bab"
      },
      "execution_count": null,
      "outputs": [
        {
          "output_type": "stream",
          "name": "stdout",
          "text": [
            "iri.data :  [[5.1 3.5 1.4 0.2]\n",
            " [4.9 3.  1.4 0.2]\n",
            " [4.7 3.2 1.3 0.2]\n",
            " [4.6 3.1 1.5 0.2]\n",
            " [5.  3.6 1.4 0.2]\n",
            " [5.4 3.9 1.7 0.4]\n",
            " [4.6 3.4 1.4 0.3]\n",
            " [5.  3.4 1.5 0.2]\n",
            " [4.4 2.9 1.4 0.2]\n",
            " [4.9 3.1 1.5 0.1]\n",
            " [5.4 3.7 1.5 0.2]\n",
            " [4.8 3.4 1.6 0.2]\n",
            " [4.8 3.  1.4 0.1]\n",
            " [4.3 3.  1.1 0.1]\n",
            " [5.8 4.  1.2 0.2]\n",
            " [5.7 4.4 1.5 0.4]\n",
            " [5.4 3.9 1.3 0.4]\n",
            " [5.1 3.5 1.4 0.3]\n",
            " [5.7 3.8 1.7 0.3]\n",
            " [5.1 3.8 1.5 0.3]\n",
            " [5.4 3.4 1.7 0.2]\n",
            " [5.1 3.7 1.5 0.4]\n",
            " [4.6 3.6 1.  0.2]\n",
            " [5.1 3.3 1.7 0.5]\n",
            " [4.8 3.4 1.9 0.2]\n",
            " [5.  3.  1.6 0.2]\n",
            " [5.  3.4 1.6 0.4]\n",
            " [5.2 3.5 1.5 0.2]\n",
            " [5.2 3.4 1.4 0.2]\n",
            " [4.7 3.2 1.6 0.2]\n",
            " [4.8 3.1 1.6 0.2]\n",
            " [5.4 3.4 1.5 0.4]\n",
            " [5.2 4.1 1.5 0.1]\n",
            " [5.5 4.2 1.4 0.2]\n",
            " [4.9 3.1 1.5 0.2]\n",
            " [5.  3.2 1.2 0.2]\n",
            " [5.5 3.5 1.3 0.2]\n",
            " [4.9 3.6 1.4 0.1]\n",
            " [4.4 3.  1.3 0.2]\n",
            " [5.1 3.4 1.5 0.2]\n",
            " [5.  3.5 1.3 0.3]\n",
            " [4.5 2.3 1.3 0.3]\n",
            " [4.4 3.2 1.3 0.2]\n",
            " [5.  3.5 1.6 0.6]\n",
            " [5.1 3.8 1.9 0.4]\n",
            " [4.8 3.  1.4 0.3]\n",
            " [5.1 3.8 1.6 0.2]\n",
            " [4.6 3.2 1.4 0.2]\n",
            " [5.3 3.7 1.5 0.2]\n",
            " [5.  3.3 1.4 0.2]\n",
            " [7.  3.2 4.7 1.4]\n",
            " [6.4 3.2 4.5 1.5]\n",
            " [6.9 3.1 4.9 1.5]\n",
            " [5.5 2.3 4.  1.3]\n",
            " [6.5 2.8 4.6 1.5]\n",
            " [5.7 2.8 4.5 1.3]\n",
            " [6.3 3.3 4.7 1.6]\n",
            " [4.9 2.4 3.3 1. ]\n",
            " [6.6 2.9 4.6 1.3]\n",
            " [5.2 2.7 3.9 1.4]\n",
            " [5.  2.  3.5 1. ]\n",
            " [5.9 3.  4.2 1.5]\n",
            " [6.  2.2 4.  1. ]\n",
            " [6.1 2.9 4.7 1.4]\n",
            " [5.6 2.9 3.6 1.3]\n",
            " [6.7 3.1 4.4 1.4]\n",
            " [5.6 3.  4.5 1.5]\n",
            " [5.8 2.7 4.1 1. ]\n",
            " [6.2 2.2 4.5 1.5]\n",
            " [5.6 2.5 3.9 1.1]\n",
            " [5.9 3.2 4.8 1.8]\n",
            " [6.1 2.8 4.  1.3]\n",
            " [6.3 2.5 4.9 1.5]\n",
            " [6.1 2.8 4.7 1.2]\n",
            " [6.4 2.9 4.3 1.3]\n",
            " [6.6 3.  4.4 1.4]\n",
            " [6.8 2.8 4.8 1.4]\n",
            " [6.7 3.  5.  1.7]\n",
            " [6.  2.9 4.5 1.5]\n",
            " [5.7 2.6 3.5 1. ]\n",
            " [5.5 2.4 3.8 1.1]\n",
            " [5.5 2.4 3.7 1. ]\n",
            " [5.8 2.7 3.9 1.2]\n",
            " [6.  2.7 5.1 1.6]\n",
            " [5.4 3.  4.5 1.5]\n",
            " [6.  3.4 4.5 1.6]\n",
            " [6.7 3.1 4.7 1.5]\n",
            " [6.3 2.3 4.4 1.3]\n",
            " [5.6 3.  4.1 1.3]\n",
            " [5.5 2.5 4.  1.3]\n",
            " [5.5 2.6 4.4 1.2]\n",
            " [6.1 3.  4.6 1.4]\n",
            " [5.8 2.6 4.  1.2]\n",
            " [5.  2.3 3.3 1. ]\n",
            " [5.6 2.7 4.2 1.3]\n",
            " [5.7 3.  4.2 1.2]\n",
            " [5.7 2.9 4.2 1.3]\n",
            " [6.2 2.9 4.3 1.3]\n",
            " [5.1 2.5 3.  1.1]\n",
            " [5.7 2.8 4.1 1.3]\n",
            " [6.3 3.3 6.  2.5]\n",
            " [5.8 2.7 5.1 1.9]\n",
            " [7.1 3.  5.9 2.1]\n",
            " [6.3 2.9 5.6 1.8]\n",
            " [6.5 3.  5.8 2.2]\n",
            " [7.6 3.  6.6 2.1]\n",
            " [4.9 2.5 4.5 1.7]\n",
            " [7.3 2.9 6.3 1.8]\n",
            " [6.7 2.5 5.8 1.8]\n",
            " [7.2 3.6 6.1 2.5]\n",
            " [6.5 3.2 5.1 2. ]\n",
            " [6.4 2.7 5.3 1.9]\n",
            " [6.8 3.  5.5 2.1]\n",
            " [5.7 2.5 5.  2. ]\n",
            " [5.8 2.8 5.1 2.4]\n",
            " [6.4 3.2 5.3 2.3]\n",
            " [6.5 3.  5.5 1.8]\n",
            " [7.7 3.8 6.7 2.2]\n",
            " [7.7 2.6 6.9 2.3]\n",
            " [6.  2.2 5.  1.5]\n",
            " [6.9 3.2 5.7 2.3]\n",
            " [5.6 2.8 4.9 2. ]\n",
            " [7.7 2.8 6.7 2. ]\n",
            " [6.3 2.7 4.9 1.8]\n",
            " [6.7 3.3 5.7 2.1]\n",
            " [7.2 3.2 6.  1.8]\n",
            " [6.2 2.8 4.8 1.8]\n",
            " [6.1 3.  4.9 1.8]\n",
            " [6.4 2.8 5.6 2.1]\n",
            " [7.2 3.  5.8 1.6]\n",
            " [7.4 2.8 6.1 1.9]\n",
            " [7.9 3.8 6.4 2. ]\n",
            " [6.4 2.8 5.6 2.2]\n",
            " [6.3 2.8 5.1 1.5]\n",
            " [6.1 2.6 5.6 1.4]\n",
            " [7.7 3.  6.1 2.3]\n",
            " [6.3 3.4 5.6 2.4]\n",
            " [6.4 3.1 5.5 1.8]\n",
            " [6.  3.  4.8 1.8]\n",
            " [6.9 3.1 5.4 2.1]\n",
            " [6.7 3.1 5.6 2.4]\n",
            " [6.9 3.1 5.1 2.3]\n",
            " [5.8 2.7 5.1 1.9]\n",
            " [6.8 3.2 5.9 2.3]\n",
            " [6.7 3.3 5.7 2.5]\n",
            " [6.7 3.  5.2 2.3]\n",
            " [6.3 2.5 5.  1.9]\n",
            " [6.5 3.  5.2 2. ]\n",
            " [6.2 3.4 5.4 2.3]\n",
            " [5.9 3.  5.1 1.8]]\n",
            "iris.target :  [0 0 0 0 0 0 0 0 0 0 0 0 0 0 0 0 0 0 0 0 0 0 0 0 0 0 0 0 0 0 0 0 0 0 0 0 0\n",
            " 0 0 0 0 0 0 0 0 0 0 0 0 0 1 1 1 1 1 1 1 1 1 1 1 1 1 1 1 1 1 1 1 1 1 1 1 1\n",
            " 1 1 1 1 1 1 1 1 1 1 1 1 1 1 1 1 1 1 1 1 1 1 1 1 1 1 2 2 2 2 2 2 2 2 2 2 2\n",
            " 2 2 2 2 2 2 2 2 2 2 2 2 2 2 2 2 2 2 2 2 2 2 2 2 2 2 2 2 2 2 2 2 2 2 2 2 2\n",
            " 2 2]\n"
          ]
        }
      ]
    },
    {
      "cell_type": "markdown",
      "source": [
        "## Comprehension de la dataset\n",
        "L'attribut feature_names retourne l'ensemble des noms des variables"
      ],
      "metadata": {
        "id": "73CHcy2cPyp6"
      }
    },
    {
      "cell_type": "code",
      "source": [
        "print(\"Feature names : \" , irisData.feature_names)"
      ],
      "metadata": {
        "colab": {
          "base_uri": "https://localhost:8080/"
        },
        "id": "_PCpt7ksOc0X",
        "outputId": "802235f8-4517-4f02-c6c1-cab33c767e7d"
      },
      "execution_count": null,
      "outputs": [
        {
          "output_type": "stream",
          "name": "stdout",
          "text": [
            "Feature names :  ['sepal length (cm)', 'sepal width (cm)', 'petal length (cm)', 'petal width (cm)']\n"
          ]
        }
      ]
    },
    {
      "cell_type": "markdown",
      "source": [
        "Distribution: est une methode qui calcul le nombre d'elements par classe"
      ],
      "metadata": {
        "id": "5OnZvzUlR80V"
      }
    },
    {
      "cell_type": "code",
      "source": [
        "def distribution(irisData):\n",
        "  n0=0\n",
        "  n1=0\n",
        "  n2=0\n",
        "  print(type(irisData.target))\n",
        "  for i in irisData.target :\n",
        "    if i==0:\n",
        "      n0=n0+1\n",
        "    if i==1:\n",
        "      n1=n1+1\n",
        "    if i==2:\n",
        "      n2=n2+1\n",
        "  print (\"class0: \",n0)\n",
        "  print (\"class1: \",n1)\n",
        "  print (\"class2: \",n2)\n",
        "  return "
      ],
      "metadata": {
        "id": "Za97N6vAPb0_"
      },
      "execution_count": null,
      "outputs": []
    },
    {
      "cell_type": "code",
      "source": [
        "distribution(irisData)"
      ],
      "metadata": {
        "colab": {
          "base_uri": "https://localhost:8080/"
        },
        "id": "AasiSgDRSNNx",
        "outputId": "92b86777-3dba-4baf-fc52-c270c62861ac"
      },
      "execution_count": null,
      "outputs": [
        {
          "output_type": "stream",
          "name": "stdout",
          "text": [
            "<class 'numpy.ndarray'>\n",
            "class0:  50\n",
            "class1:  50\n",
            "class2:  50\n"
          ]
        }
      ]
    },
    {
      "cell_type": "markdown",
      "source": [
        "On peur de meme utiliser la sousclasse Counter pour calculer le nombre d'occurrence"
      ],
      "metadata": {
        "id": "2vHHFlpCSPCB"
      }
    },
    {
      "cell_type": "code",
      "source": [
        "Counter(irisData.target)"
      ],
      "metadata": {
        "colab": {
          "base_uri": "https://localhost:8080/"
        },
        "id": "qPVZxi19P4KO",
        "outputId": "8d880569-881e-403a-e819-ab49e29afade"
      },
      "execution_count": null,
      "outputs": [
        {
          "output_type": "execute_result",
          "data": {
            "text/plain": [
              "Counter({0: 50, 1: 50, 2: 50})"
            ]
          },
          "metadata": {},
          "execution_count": 188
        }
      ]
    },
    {
      "cell_type": "markdown",
      "source": [
        "Pour afficher les attributs du 32ème élément de l'échantillon "
      ],
      "metadata": {
        "id": "jQwekiQ-Rixy"
      }
    },
    {
      "cell_type": "code",
      "source": [
        "print(\"les attributs du 32 eme element sont : \", irisData.data[31])\n",
        "print(\"la classe du 32 eme element est : \", irisData.target[31])"
      ],
      "metadata": {
        "colab": {
          "base_uri": "https://localhost:8080/"
        },
        "id": "WsgESHvMRVKp",
        "outputId": "8c819532-fba3-4f61-c9d2-2612606aa06e"
      },
      "execution_count": null,
      "outputs": [
        {
          "output_type": "stream",
          "name": "stdout",
          "text": [
            "les attributs du 32 eme element sont :  [5.4 3.4 1.5 0.4]\n",
            "la classe du 32 eme element est :  0\n"
          ]
        }
      ]
    },
    {
      "cell_type": "markdown",
      "source": [
        "## Visualisation de la dataset"
      ],
      "metadata": {
        "id": "xFQd3gwBZghI"
      }
    },
    {
      "cell_type": "code",
      "source": [
        "import matplotlib\n",
        "import pylab as pl\n",
        "from itertools import cycle"
      ],
      "metadata": {
        "id": "iFgppMo4anwN"
      },
      "execution_count": null,
      "outputs": []
    },
    {
      "cell_type": "markdown",
      "source": [
        "plot_2D: est une fonction qui permet de visualiser les observations en fonction de deux variables att1 et att2."
      ],
      "metadata": {
        "id": "KCct8wN3bJL9"
      }
    },
    {
      "cell_type": "code",
      "source": [
        "def plot_2D(data, target, target_names,att1,att2,x1=0,x2=0):\n",
        "  colors = cycle('rgbcmykw') # cycle de couleurs\n",
        "  target_ids = range(len(target_names))\n",
        "  pl.figure()\n",
        "  for i, c, label in zip(target_ids, colors, target_names):\n",
        "    pl.scatter(data[target == i, att1], data[target == i, att2], c=c, label=label)\n",
        "  pl.legend()\n",
        "  pl.plot(x1,x2)\n",
        "  pl.show()"
      ],
      "metadata": {
        "id": "6xudd7ctRf8D"
      },
      "execution_count": null,
      "outputs": []
    },
    {
      "cell_type": "code",
      "source": [
        "plot_2D(irisData.data,irisData.target,irisData.feature_names,1,0,[2,4],[4,6.5])"
      ],
      "metadata": {
        "colab": {
          "base_uri": "https://localhost:8080/",
          "height": 265
        },
        "id": "N3oDx0JbbfY2",
        "outputId": "69c6ef63-af2c-4e1f-a248-0ec2455a1c84"
      },
      "execution_count": null,
      "outputs": [
        {
          "output_type": "display_data",
          "data": {
            "text/plain": [
              "<Figure size 432x288 with 1 Axes>"
            ],
            "image/png": "[encoded data removed]"
          },
          "metadata": {
            "needs_background": "light"
          }
        }
      ]
    },
    {
      "cell_type": "code",
      "source": [
        "plot_2D(irisData.data,irisData.target,irisData.feature_names,2,0,[2.3,2.3],[3,6])"
      ],
      "metadata": {
        "colab": {
          "base_uri": "https://localhost:8080/",
          "height": 265
        },
        "id": "k0rU-0ESaK4V",
        "outputId": "c27e93b2-ee10-4b9e-e754-22d8a954ed60"
      },
      "execution_count": null,
      "outputs": [
        {
          "output_type": "display_data",
          "data": {
            "text/plain": [
              "<Figure size 432x288 with 1 Axes>"
            ],
            "image/png": "[encoded data removed]"
          },
          "metadata": {
            "needs_background": "light"
          }
        }
      ]
    },
    {
      "cell_type": "code",
      "source": [
        "plot_2D(irisData.data,irisData.target,irisData.feature_names,3,0,[0.75,0.75],[3.5,8])"
      ],
      "metadata": {
        "colab": {
          "base_uri": "https://localhost:8080/",
          "height": 265
        },
        "id": "BgQXWlOUbjl0",
        "outputId": "cda76720-4d96-43a0-ec00-2a01c40adea6"
      },
      "execution_count": null,
      "outputs": [
        {
          "output_type": "display_data",
          "data": {
            "text/plain": [
              "<Figure size 432x288 with 1 Axes>"
            ],
            "image/png": "[encoded data removed]"
          },
          "metadata": {
            "needs_background": "light"
          }
        }
      ]
    },
    {
      "cell_type": "code",
      "source": [
        "plot_2D(irisData.data,irisData.target,irisData.feature_names,2,1,[2.3,2.3],[0,6])"
      ],
      "metadata": {
        "colab": {
          "base_uri": "https://localhost:8080/",
          "height": 265
        },
        "id": "ng7l6hEGaK_h",
        "outputId": "ceca601e-46c5-44a2-8ac6-c5c902e7b4ea"
      },
      "execution_count": null,
      "outputs": [
        {
          "output_type": "display_data",
          "data": {
            "text/plain": [
              "<Figure size 432x288 with 1 Axes>"
            ],
            "image/png": "[encoded data removed]"
          },
          "metadata": {
            "needs_background": "light"
          }
        }
      ]
    },
    {
      "cell_type": "code",
      "source": [
        "plot_2D(irisData.data,irisData.target,irisData.feature_names,2,3,[2.3,2.3],[0,3])"
      ],
      "metadata": {
        "colab": {
          "base_uri": "https://localhost:8080/",
          "height": 265
        },
        "id": "mubWsp8Gbn8F",
        "outputId": "edd8311d-3d94-437f-eb52-83794e5be31b"
      },
      "execution_count": null,
      "outputs": [
        {
          "output_type": "display_data",
          "data": {
            "text/plain": [
              "<Figure size 432x288 with 1 Axes>"
            ],
            "image/png": "[encoded data removed]"
          },
          "metadata": {
            "needs_background": "light"
          }
        }
      ]
    },
    {
      "cell_type": "code",
      "source": [
        "plot_2D(irisData.data,irisData.target,irisData.feature_names,3,1,[0.75,0.75],[1,5])"
      ],
      "metadata": {
        "colab": {
          "base_uri": "https://localhost:8080/",
          "height": 265
        },
        "id": "Vfwk9MTJbrjs",
        "outputId": "fa5adae2-01bb-4edc-9fc9-18959c9f311c"
      },
      "execution_count": null,
      "outputs": [
        {
          "output_type": "display_data",
          "data": {
            "text/plain": [
              "<Figure size 432x288 with 1 Axes>"
            ],
            "image/png": "[encoded data removed]"
          },
          "metadata": {
            "needs_background": "light"
          }
        }
      ]
    },
    {
      "cell_type": "markdown",
      "source": [
        "## Classifieur Naive Bayes\n"
      ],
      "metadata": {
        "id": "QrFaj5oBfKLF"
      }
    },
    {
      "cell_type": "markdown",
      "source": [
        "### Simple Split"
      ],
      "metadata": {
        "id": "A5nU4Cx6mRMk"
      }
    },
    {
      "cell_type": "code",
      "source": [
        "from sklearn import naive_bayes"
      ],
      "metadata": {
        "id": "_dIAs5iZS9Ff"
      },
      "execution_count": null,
      "outputs": []
    },
    {
      "cell_type": "markdown",
      "source": [
        "Sous scikit-learn, dans toute méthode de classification est représentée par la variable clf qui possede deux fonctions essentielles :\n",
        "* La fonction clf.fit(tab_data, tab_target) qui apprend un modèle à partir\n",
        "des données.,\n",
        "* La fonction clf.predict(tab_data) qui renvoie un tableau qui stocke, pour\n",
        "chaque nouvelle donnée en entrée, la classe prédite par le modèle précédemment appris via l'estimateur "
      ],
      "metadata": {
        "id": "1Np4nNM4fhrR"
      }
    },
    {
      "cell_type": "markdown",
      "source": [
        "Le modele s'entraine sur la totalité de la dataset , puis il test sur la meme dataset . Il predit les classes correctement. Cependant ce n'est pas une vraie evaluation parceque le modele est deja entrainé sur la meme dataset "
      ],
      "metadata": {
        "id": "XVBCSs_ih2e1"
      }
    },
    {
      "cell_type": "code",
      "source": [
        "clf = naive_bayes.MultinomialNB(fit_prior=True)# un algo d'apprentissage\n",
        "irisData = datasets.load_iris()\n",
        "clf.fit(irisData.data[:], irisData.target[:])\n",
        "p31 = clf.predict([irisData.data[31]])\n",
        "print(\"la valeur predite de la 32eme observation par ce classifieur est : \",p31)\n",
        "plast = clf.predict([irisData.data[-1]])\n",
        "print(\"la valeur predite de la derniere observation par ce classifieur est : \",plast)\n",
        "p = clf.predict(irisData.data[:])\n",
        "print(\"les valeurs predites de l'ensemble de données iris par ce classifieur est : \")\n",
        "print(p)\n",
        "print(\"les vraies valeurs des classes de l'ensemble des attributs est : \")\n",
        "print(irisData.target)"
      ],
      "metadata": {
        "colab": {
          "base_uri": "https://localhost:8080/"
        },
        "id": "PqQIzN6QfEqZ",
        "outputId": "7a907a59-b5e8-4224-fe43-a110201e3014"
      },
      "execution_count": null,
      "outputs": [
        {
          "output_type": "stream",
          "name": "stdout",
          "text": [
            "la valeur predite de la 32eme observation par ce classifieur est :  [0]\n",
            "la valeur predite de la derniere observation par ce classifieur est :  [2]\n",
            "les valeurs predites de l'ensemble de données iris par ce classifieur est : \n",
            "[0 0 0 0 0 0 0 0 0 0 0 0 0 0 0 0 0 0 0 0 0 0 0 0 0 0 0 0 0 0 0 0 0 0 0 0 0\n",
            " 0 0 0 0 0 0 0 0 0 0 0 0 0 1 1 1 1 1 1 1 1 1 1 1 1 1 1 1 1 1 1 2 1 2 1 2 1\n",
            " 1 1 1 1 1 1 1 1 1 2 1 1 1 1 1 1 1 1 1 1 1 1 1 1 1 1 2 2 2 2 2 2 2 2 2 2 2\n",
            " 2 2 2 2 2 2 2 2 2 2 2 2 2 2 2 2 2 2 1 2 1 2 1 2 2 2 2 2 2 2 2 2 2 2 2 2 2\n",
            " 2 2]\n",
            "les vraies valeurs des classes de l'ensemble des attributs est : \n",
            "[0 0 0 0 0 0 0 0 0 0 0 0 0 0 0 0 0 0 0 0 0 0 0 0 0 0 0 0 0 0 0 0 0 0 0 0 0\n",
            " 0 0 0 0 0 0 0 0 0 0 0 0 0 1 1 1 1 1 1 1 1 1 1 1 1 1 1 1 1 1 1 1 1 1 1 1 1\n",
            " 1 1 1 1 1 1 1 1 1 1 1 1 1 1 1 1 1 1 1 1 1 1 1 1 1 1 2 2 2 2 2 2 2 2 2 2 2\n",
            " 2 2 2 2 2 2 2 2 2 2 2 2 2 2 2 2 2 2 2 2 2 2 2 2 2 2 2 2 2 2 2 2 2 2 2 2 2\n",
            " 2 2]\n"
          ]
        }
      ]
    },
    {
      "cell_type": "markdown",
      "source": [
        "Pour bien analyser la validité du modele, il s'entraine sur 2/3 de la dataset , puis il predit les 1/3 restants . Ceci permet de le tester.\n",
        "Dans ce cas la datqet est ordonnée: une sequence de 0 suivit d'une sequence de 1 puis une sequence de 2.\n",
        "Le modele, lors de son entrainement n'a jamais vu une observation dont la classe est 2. \n"
      ],
      "metadata": {
        "id": "A94seHMciaFo"
      }
    },
    {
      "cell_type": "code",
      "source": [
        "from sklearn import naive_bayes\n",
        "clf = naive_bayes.MultinomialNB(fit_prior=True)\n",
        "clf.fit(irisData.data[:99], irisData.target[:99])\n",
        "p=clf.predict(irisData.data[100:])\n",
        "print(\"les valeurs predites sont : \" )\n",
        "print(p)\n",
        "print(\"les vraies valeurs sont : \")\n",
        "print(irisData.target[100:])"
      ],
      "metadata": {
        "colab": {
          "base_uri": "https://localhost:8080/"
        },
        "id": "zGl-rO37WTyu",
        "outputId": "d4028e73-7da3-42b6-dbf8-12bb8d5eed39"
      },
      "execution_count": null,
      "outputs": [
        {
          "output_type": "stream",
          "name": "stdout",
          "text": [
            "les valeurs predites sont : \n",
            "[1 1 1 1 1 1 1 1 1 1 1 1 1 1 1 1 1 1 1 1 1 1 1 1 1 1 1 1 1 1 1 1 1 1 1 1 1\n",
            " 1 1 1 1 1 1 1 1 1 1 1 1 1]\n",
            "les vraies valeurs sont : \n",
            "[2 2 2 2 2 2 2 2 2 2 2 2 2 2 2 2 2 2 2 2 2 2 2 2 2 2 2 2 2 2 2 2 2 2 2 2 2\n",
            " 2 2 2 2 2 2 2 2 2 2 2 2 2]\n"
          ]
        }
      ]
    },
    {
      "cell_type": "markdown",
      "source": [
        "Pour corriger l'erreur , il faut melanger(shuffle) la dataset avant de la divisée en train et test"
      ],
      "metadata": {
        "id": "mikVon-jjguz"
      }
    },
    {
      "cell_type": "code",
      "source": [
        "def incorrect_classification(y,p):\n",
        "  ea = 0\n",
        "  for i in range(len(y)):\n",
        "    if (p[i] != y[i]):\n",
        "      ea = ea+1\n",
        "  ea=ea/len(irisData.data[100:])\n",
        "  return ea"
      ],
      "metadata": {
        "id": "L-Y5PwItYEf2"
      },
      "execution_count": null,
      "outputs": []
    },
    {
      "cell_type": "code",
      "source": [
        "import numpy as np\n",
        "incorrect_classification(irisData.target[100:],p)\n",
        "diff=p-y\n",
        "print(\"pourcentage des elements incorrectement classifier est : \",np.count_nonzero(diff)/diff.shape[0])\n"
      ],
      "metadata": {
        "colab": {
          "base_uri": "https://localhost:8080/"
        },
        "id": "c1J_VzhrZG64",
        "outputId": "4c29c9d6-4b4a-46c3-8cff-00962f55c8a3"
      },
      "execution_count": null,
      "outputs": [
        {
          "output_type": "stream",
          "name": "stdout",
          "text": [
            "pourcentage des elements incorrectement classifier est :  1.0\n"
          ]
        }
      ]
    },
    {
      "cell_type": "code",
      "source": [
        "print(\"l'accuracy est : \",nb.score(irisData.data,irisData.target))"
      ],
      "metadata": {
        "colab": {
          "base_uri": "https://localhost:8080/"
        },
        "id": "cO55eMafaGbr",
        "outputId": "2e7770d3-f737-4cfe-b836-80dece8aa8e9"
      },
      "execution_count": null,
      "outputs": [
        {
          "output_type": "stream",
          "name": "stdout",
          "text": [
            "l'accuracy est :  0.9666666666666667\n"
          ]
        }
      ]
    },
    {
      "cell_type": "code",
      "source": [
        "irisData.target"
      ],
      "metadata": {
        "colab": {
          "base_uri": "https://localhost:8080/"
        },
        "id": "Tw0W1_OHsOWQ",
        "outputId": "7f50dc57-1530-471a-c923-d17bb1bc75db"
      },
      "execution_count": null,
      "outputs": [
        {
          "output_type": "execute_result",
          "data": {
            "text/plain": [
              "array([0, 0, 0, 0, 0, 0, 0, 0, 0, 0, 0, 0, 0, 0, 0, 0, 0, 0, 0, 0, 0, 0,\n",
              "       0, 0, 0, 0, 0, 0, 0, 0, 0, 0, 0, 0, 0, 0, 0, 0, 0, 0, 0, 0, 0, 0,\n",
              "       0, 0, 0, 0, 0, 0, 1, 1, 1, 1, 1, 1, 1, 1, 1, 1, 1, 1, 1, 1, 1, 1,\n",
              "       1, 1, 1, 1, 1, 1, 1, 1, 1, 1, 1, 1, 1, 1, 1, 1, 1, 1, 1, 1, 1, 1,\n",
              "       1, 1, 1, 1, 1, 1, 1, 1, 1, 1, 1, 1, 2, 2, 2, 2, 2, 2, 2, 2, 2, 2,\n",
              "       2, 2, 2, 2, 2, 2, 2, 2, 2, 2, 2, 2, 2, 2, 2, 2, 2, 2, 2, 2, 2, 2,\n",
              "       2, 2, 2, 2, 2, 2, 2, 2, 2, 2, 2, 2, 2, 2, 2, 2, 2, 2])"
            ]
          },
          "metadata": {},
          "execution_count": 204
        }
      ]
    },
    {
      "cell_type": "code",
      "source": [
        "print(set(irisData.target))\n",
        "np.where(irisData.target == 1)"
      ],
      "metadata": {
        "colab": {
          "base_uri": "https://localhost:8080/"
        },
        "id": "aXKS16_Msu4r",
        "outputId": "dbb6da06-607d-4d83-d634-0aeb5ba0351d"
      },
      "execution_count": null,
      "outputs": [
        {
          "output_type": "stream",
          "name": "stdout",
          "text": [
            "{0, 1, 2}\n"
          ]
        },
        {
          "output_type": "execute_result",
          "data": {
            "text/plain": [
              "(array([50, 51, 52, 53, 54, 55, 56, 57, 58, 59, 60, 61, 62, 63, 64, 65, 66,\n",
              "        67, 68, 69, 70, 71, 72, 73, 74, 75, 76, 77, 78, 79, 80, 81, 82, 83,\n",
              "        84, 85, 86, 87, 88, 89, 90, 91, 92, 93, 94, 95, 96, 97, 98, 99]),)"
            ]
          },
          "metadata": {},
          "execution_count": 205
        }
      ]
    },
    {
      "cell_type": "markdown",
      "source": [
        "### Split respectant la distribution de la dataset"
      ],
      "metadata": {
        "id": "dYIXdT6PmWoc"
      }
    },
    {
      "cell_type": "code",
      "source": [
        "import random\n",
        "\n",
        "def split(s):\n",
        "  train_data = []\n",
        "  test_data = []\n",
        "  train_target = []\n",
        "  test_target = []\n",
        "\n",
        "  for target in set(s.target):\n",
        "    targets = np.where(s.target == target)[0].tolist()\n",
        "    lengths = len(targets)\n",
        "    # size 2/3\n",
        "    take_target = random.sample(targets, lengths*2//3)\n",
        "    give_target = [target for target in targets if target not in take_target]\n",
        "    train_data.extend(s.data[take_target])\n",
        "    train_target.extend(s.target[take_target])\n",
        "    # size 1/3\n",
        "    test_data.extend(s.data[give_target])\n",
        "    test_target.extend(s.target[give_target])\n",
        "  train = list(zip(train_data, train_target))\n",
        "  random.shuffle(train)\n",
        "  train_data, train_target = zip(*train)\n",
        "\n",
        "  test = list(zip(test_data, test_target))\n",
        "  random.shuffle(test)\n",
        "  test_data, test_target = zip(*test)\n",
        "\n",
        "  return np.array(train_data), np.array(train_target), np.array(test_data), np.array(test_target)"
      ],
      "metadata": {
        "id": "PZZjXLZHlvmV"
      },
      "execution_count": null,
      "outputs": []
    },
    {
      "cell_type": "markdown",
      "source": [
        "## Estimation de l'erreur"
      ],
      "metadata": {
        "id": "mJdnACDCNr29"
      }
    },
    {
      "cell_type": "markdown",
      "source": [
        "### Test manuel"
      ],
      "metadata": {
        "id": "GBWBuu3vN4og"
      }
    },
    {
      "cell_type": "code",
      "source": [
        "def test(s,clf):\n",
        "  train_X, train_y , test_X, test_y = split(irisData)\n",
        "  clf.fit(train_X, train_y)\n",
        "  predict_y=clf.predict(test_X)\n",
        "  # print(\"les valeurs predites sont : \" )\n",
        "  # print(predict_y)\n",
        "  # print(\"les vraies valeurs sont : \")\n",
        "  # print(test_y)\n",
        "  ea=incorrect_classification(test_y,predict_y)\n",
        "  # print(\"pourcentage des elements incorrectement classifier est : \",incorrect_classification(test_y,predict_y))\n",
        "  # diff=predict_y-test_y\n",
        "  # print(\"pourcentage des elements incorrectement classifier est : \",np.count_nonzero(diff)/diff.shape[0])\n",
        "  return  ea\n"
      ],
      "metadata": {
        "id": "h_HzYBwhxMBg"
      },
      "execution_count": null,
      "outputs": []
    },
    {
      "cell_type": "code",
      "source": [
        "def multiple_test(s,clf,n):\n",
        "  ea=0\n",
        "  for i in range(0,n):\n",
        "    ea+=test(s,clf)\n",
        "  print(ea/n)\n",
        "    "
      ],
      "metadata": {
        "id": "Ac2oVxZDFL5q"
      },
      "execution_count": null,
      "outputs": []
    },
    {
      "cell_type": "code",
      "source": [
        "clf = naive_bayes.MultinomialNB(fit_prior=True)\n",
        "for i in range(0,20):\n",
        "  multiple_test(irisData,clf,200)"
      ],
      "metadata": {
        "colab": {
          "base_uri": "https://localhost:8080/"
        },
        "id": "By8R6a32FZ7J",
        "outputId": "e79b298b-6f1c-47b6-af0b-b294b9f2d37f"
      },
      "execution_count": null,
      "outputs": [
        {
          "output_type": "stream",
          "name": "stdout",
          "text": [
            "0.045199999999999886\n",
            "0.04509999999999991\n",
            "0.04709999999999992\n",
            "0.046299999999999945\n",
            "0.048299999999999885\n",
            "0.048399999999999894\n",
            "0.044599999999999904\n",
            "0.044899999999999905\n",
            "0.0471999999999999\n",
            "0.04439999999999986\n",
            "0.04889999999999992\n",
            "0.04479999999999988\n",
            "0.045599999999999884\n",
            "0.0470999999999999\n",
            "0.046399999999999914\n",
            "0.0434999999999999\n",
            "0.04439999999999989\n",
            "0.04449999999999992\n",
            "0.0455999999999999\n",
            "0.046499999999999916\n"
          ]
        }
      ]
    },
    {
      "cell_type": "code",
      "source": [
        "from sklearn.model_selection import train_test_split\n",
        "n=200\n",
        "for i in range(0,20):\n",
        "  ea=0\n",
        "  for j in range(0,n):\n",
        "    x_train,x_test,y_train,y_test=train_test_split(irisData.data,irisData.target,test_size=0.33)\n",
        "    y_train\n",
        "    clf.fit(x_train, y_train)\n",
        "    predict_y=clf.predict(x_test)\n",
        "    ea=incorrect_classification(y_test,predict_y)\n",
        "  ea=ea/n\n",
        "  print(ea)\n"
      ],
      "metadata": {
        "id": "nuVn_LyVfPXz",
        "colab": {
          "base_uri": "https://localhost:8080/"
        },
        "outputId": "76b418b4-fb9b-4d30-9be4-055bac521f0f"
      },
      "execution_count": null,
      "outputs": [
        {
          "output_type": "stream",
          "name": "stdout",
          "text": [
            "0.0004\n",
            "0.002\n",
            "0.0002\n",
            "0.0009\n",
            "0.0018\n",
            "0.0017000000000000001\n",
            "0.0006\n",
            "0.001\n",
            "0.0002\n",
            "0.0021\n",
            "0.0006\n",
            "0.0017000000000000001\n",
            "0.0002\n",
            "0.002\n",
            "0.0016\n",
            "0.0021\n",
            "0.0003\n",
            "0.0002\n",
            "0.0019\n",
            "0.0012\n"
          ]
        }
      ]
    },
    {
      "cell_type": "markdown",
      "source": [
        "### Cross-validation"
      ],
      "metadata": {
        "id": "EaxuesqVMHOU"
      }
    },
    {
      "cell_type": "code",
      "source": [
        "from sklearn.model_selection import cross_val_score\n",
        "scores = cross_val_score(clf, irisData.data, irisData.target, cv=10)\n",
        "scores"
      ],
      "metadata": {
        "colab": {
          "base_uri": "https://localhost:8080/"
        },
        "id": "3-ZL8p7oJWKs",
        "outputId": "337cb6ed-cb1a-419e-a4df-eb9ea9e117fc"
      },
      "execution_count": null,
      "outputs": [
        {
          "output_type": "execute_result",
          "data": {
            "text/plain": [
              "array([1.        , 1.        , 1.        , 0.93333333, 0.86666667,\n",
              "       0.93333333, 0.8       , 1.        , 1.        , 1.        ])"
            ]
          },
          "metadata": {},
          "execution_count": 236
        }
      ]
    },
    {
      "cell_type": "markdown",
      "source": [
        "# Decision Tree"
      ],
      "metadata": {
        "id": "M0t824j3N-if"
      }
    },
    {
      "cell_type": "code",
      "source": [
        "from sklearn.tree import DecisionTreeClassifier\n",
        "clf_decision_tree = DecisionTreeClassifier()"
      ],
      "metadata": {
        "id": "xBq04CzjJXnM"
      },
      "execution_count": null,
      "outputs": []
    },
    {
      "cell_type": "markdown",
      "source": [
        "## Test manuel "
      ],
      "metadata": {
        "id": "XmWvp1rwOU7k"
      }
    },
    {
      "cell_type": "code",
      "source": [
        "for i in range(0,20):\n",
        "  multiple_test(irisData,clf_decision_tree,200)"
      ],
      "metadata": {
        "colab": {
          "base_uri": "https://localhost:8080/"
        },
        "id": "tVOOOvvzNjub",
        "outputId": "16b0c7fa-00c5-489f-feec-96cadceb743a"
      },
      "execution_count": null,
      "outputs": [
        {
          "output_type": "stream",
          "name": "stdout",
          "text": [
            "0.054099999999999884\n",
            "0.05759999999999991\n",
            "0.0560999999999999\n",
            "0.05809999999999991\n",
            "0.054999999999999896\n",
            "0.05459999999999995\n",
            "0.057699999999999904\n",
            "0.05259999999999988\n",
            "0.05649999999999991\n",
            "0.05539999999999986\n",
            "0.059199999999999926\n",
            "0.05779999999999986\n",
            "0.05649999999999988\n",
            "0.05429999999999992\n",
            "0.054199999999999846\n",
            "0.055999999999999925\n",
            "0.0546999999999999\n",
            "0.05719999999999991\n",
            "0.05439999999999987\n",
            "0.056099999999999886\n"
          ]
        }
      ]
    },
    {
      "cell_type": "markdown",
      "source": [
        "## Cros-validation"
      ],
      "metadata": {
        "id": "P1rXdO41OYoE"
      }
    },
    {
      "cell_type": "code",
      "source": [
        "scores = cross_val_score(clf_decision_tree, irisData.data, irisData.target, cv=10)\n",
        "scores"
      ],
      "metadata": {
        "colab": {
          "base_uri": "https://localhost:8080/"
        },
        "id": "ejodR2ZNOYHm",
        "outputId": "11df9fd1-d57a-4300-b9e0-932733b27032"
      },
      "execution_count": null,
      "outputs": [
        {
          "output_type": "execute_result",
          "data": {
            "text/plain": [
              "array([1.        , 0.93333333, 1.        , 0.93333333, 0.93333333,\n",
              "       0.86666667, 0.93333333, 0.93333333, 1.        , 1.        ])"
            ]
          },
          "metadata": {},
          "execution_count": 242
        }
      ]
    },
    {
      "cell_type": "code",
      "source": [],
      "metadata": {
        "id": "8_whKg7GOke9"
      },
      "execution_count": null,
      "outputs": []
    }
  ]
}